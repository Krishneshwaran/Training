{
 "cells": [
  {
   "cell_type": "code",
   "execution_count": 3,
   "id": "d22315f7-267e-426a-bec1-b0f6d5d798ce",
   "metadata": {},
   "outputs": [
    {
     "name": "stdout",
     "output_type": "stream",
     "text": [
      "List:\n",
      " [1, 2, 3, 4]\n",
      "Set:\n",
      " {2, 4, 6}\n",
      "Tuple:\n",
      " (1, 3, 5)\n",
      "Dictionary:\n",
      " {'a': 1, 'b': 2, 'c': 3}\n"
     ]
    }
   ],
   "source": [
    "list=[1,2,3]\n",
    "list.append(4)\n",
    "\n",
    "set={2,4,6}\n",
    "\n",
    "tuple=(1,3,5)\n",
    "\n",
    "dictionary={\"a\":1, \"b\":2}\n",
    "dictionary[\"c\"]=3\n",
    "\n",
    "print(\"List:\\n\",list)\n",
    "print(\"Set:\\n\", set)\n",
    "print(\"Tuple:\\n\", tuple)\n",
    "print(\"Dictionary:\\n\", dictionary)\n"
   ]
  },
  {
   "cell_type": "code",
   "execution_count": null,
   "id": "611ab9dc-b579-4a12-aa0d-226a80c7e9bf",
   "metadata": {},
   "outputs": [],
   "source": []
  }
 ],
 "metadata": {
  "kernelspec": {
   "display_name": "Python 3 (ipykernel)",
   "language": "python",
   "name": "python3"
  },
  "language_info": {
   "codemirror_mode": {
    "name": "ipython",
    "version": 3
   },
   "file_extension": ".py",
   "mimetype": "text/x-python",
   "name": "python",
   "nbconvert_exporter": "python",
   "pygments_lexer": "ipython3",
   "version": "3.13.2"
  }
 },
 "nbformat": 4,
 "nbformat_minor": 5
}
