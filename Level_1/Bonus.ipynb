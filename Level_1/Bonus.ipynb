{
 "cells": [
  {
   "cell_type": "markdown",
   "id": "a6e72385-5a70-4c0c-923c-b927a5622b83",
   "metadata": {},
   "source": [
    "#  Bonus: NumPy Matrix Operations"
   ]
  },
  {
   "cell_type": "code",
   "execution_count": 3,
   "id": "c060e3c6-f0bd-48eb-a2b7-2269625cf150",
   "metadata": {},
   "outputs": [
    {
     "name": "stdout",
     "output_type": "stream",
     "text": [
      "[[ 6  8]\n",
      " [10 12]]\n"
     ]
    }
   ],
   "source": [
    "import numpy as np\n",
    "\n",
    "matrix1=np.array([[1,2],[3,4]])\n",
    "\n",
    "matrix2=np.array([[5,6], [7,8]])\n",
    "\n",
    "addition = matrix1 + matrix2\n",
    "\n",
    "print(addition)"
   ]
  }
 ],
 "metadata": {
  "kernelspec": {
   "display_name": "Python 3 (ipykernel)",
   "language": "python",
   "name": "python3"
  },
  "language_info": {
   "codemirror_mode": {
    "name": "ipython",
    "version": 3
   },
   "file_extension": ".py",
   "mimetype": "text/x-python",
   "name": "python",
   "nbconvert_exporter": "python",
   "pygments_lexer": "ipython3",
   "version": "3.13.2"
  }
 },
 "nbformat": 4,
 "nbformat_minor": 5
}
