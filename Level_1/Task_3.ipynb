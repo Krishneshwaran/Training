{
 "cells": [
  {
   "cell_type": "code",
   "execution_count": 1,
   "id": "9ac5bf45-c93d-4a9d-9787-ce86d6363f77",
   "metadata": {},
   "outputs": [
    {
     "name": "stdout",
     "output_type": "stream",
     "text": [
      "Mean: 5.5, Min: 1\n"
     ]
    }
   ],
   "source": [
    "import numpy as np\n",
    "array=np.arange(1,11)\n",
    "\n",
    "mean=np.mean(array)\n",
    "\n",
    "max_value=np.max(array)\n",
    "\n",
    "min_value=np.min(array)\n",
    "\n",
    "print(f\"Mean: {mean}, Min: {min_value}\")"
   ]
  },
  {
   "cell_type": "code",
   "execution_count": null,
   "id": "7a003e02-0434-4789-adb7-78c486733ebc",
   "metadata": {},
   "outputs": [],
   "source": []
  }
 ],
 "metadata": {
  "kernelspec": {
   "display_name": "Python 3 (ipykernel)",
   "language": "python",
   "name": "python3"
  },
  "language_info": {
   "codemirror_mode": {
    "name": "ipython",
    "version": 3
   },
   "file_extension": ".py",
   "mimetype": "text/x-python",
   "name": "python",
   "nbconvert_exporter": "python",
   "pygments_lexer": "ipython3",
   "version": "3.13.2"
  }
 },
 "nbformat": 4,
 "nbformat_minor": 5
}
