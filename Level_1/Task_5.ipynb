{
 "cells": [
  {
   "cell_type": "code",
   "execution_count": 2,
   "id": "b8db6153-5406-420c-b7b7-d426b8ac9374",
   "metadata": {},
   "outputs": [
    {
     "name": "stdin",
     "output_type": "stream",
     "text": [
      "Enter a string: a\n",
      "Enter a value: 5\n",
      "Enter a string: b\n",
      "Enter a value: 4\n",
      "Enter a string: c\n",
      "Enter a value: 3\n"
     ]
    },
    {
     "name": "stdout",
     "output_type": "stream",
     "text": [
      "{'a': 5, 'b': 4, 'c': 3}\n"
     ]
    }
   ],
   "source": [
    "dict={}\n",
    "\n",
    "for i in range(3):\n",
    "    key=input(\"Enter a string:\")\n",
    "\n",
    "    value=int(input(\"Enter a value:\"))\n",
    "\n",
    "    dict[key]=value\n",
    "\n",
    "print(dict)"
   ]
  },
  {
   "cell_type": "code",
   "execution_count": null,
   "id": "afd3064a-bf80-479d-b99c-4e665f50a92c",
   "metadata": {},
   "outputs": [],
   "source": []
  }
 ],
 "metadata": {
  "kernelspec": {
   "display_name": "Python 3 (ipykernel)",
   "language": "python",
   "name": "python3"
  },
  "language_info": {
   "codemirror_mode": {
    "name": "ipython",
    "version": 3
   },
   "file_extension": ".py",
   "mimetype": "text/x-python",
   "name": "python",
   "nbconvert_exporter": "python",
   "pygments_lexer": "ipython3",
   "version": "3.13.2"
  }
 },
 "nbformat": 4,
 "nbformat_minor": 5
}
