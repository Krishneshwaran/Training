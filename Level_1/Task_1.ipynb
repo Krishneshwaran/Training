{
 "cells": [
  {
   "cell_type": "code",
   "execution_count": 3,
   "id": "249a7e80-04b2-478d-9ce4-378d76e5c5b3",
   "metadata": {},
   "outputs": [
    {
     "name": "stdout",
     "output_type": "stream",
     "text": [
      "Hello, Python!\n",
      "5 + 3 = 8\n"
     ]
    }
   ],
   "source": [
    "greeting = \"Hello, Python!\"\n",
    "a=5\n",
    "b=3\n",
    "result= a + b\n",
    "print(greeting)\n",
    "print(f\"{a} + {b} = {result}\")"
   ]
  }
 ],
 "metadata": {
  "kernelspec": {
   "display_name": "Python 3 (ipykernel)",
   "language": "python",
   "name": "python3"
  },
  "language_info": {
   "codemirror_mode": {
    "name": "ipython",
    "version": 3
   },
   "file_extension": ".py",
   "mimetype": "text/x-python",
   "name": "python",
   "nbconvert_exporter": "python",
   "pygments_lexer": "ipython3",
   "version": "3.13.2"
  }
 },
 "nbformat": 4,
 "nbformat_minor": 5
}
