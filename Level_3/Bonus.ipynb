{
 "cells": [
  {
   "cell_type": "code",
   "execution_count": 21,
   "id": "4c48a381-eddb-4faf-95ad-5164a911abc5",
   "metadata": {},
   "outputs": [
    {
     "name": "stdout",
     "output_type": "stream",
     "text": [
      "[[9, 2], [3, 4]] [[9, 2], [3, 4]] [[8, 2], [3, 4]]\n"
     ]
    }
   ],
   "source": [
    "import copy\n",
    "original_list = [[8, 2], [3, 4]]\n",
    "shallow_copy = copy.copy(original_list)\n",
    "deep_copy = copy.deepcopy(original_list)\n",
    "shallow_copy[0][0] = 9\n",
    "deep_copy[0][0] = 8\n",
    "print(original_list, shallow_copy,deep_copy)"
   ]
  },
  {
   "cell_type": "code",
   "execution_count": null,
   "id": "ac7d8e5a-da76-4a6d-ae30-e3219febc856",
   "metadata": {},
   "outputs": [],
   "source": []
  }
 ],
 "metadata": {
  "kernelspec": {
   "display_name": "Python 3 (ipykernel)",
   "language": "python",
   "name": "python3"
  },
  "language_info": {
   "codemirror_mode": {
    "name": "ipython",
    "version": 3
   },
   "file_extension": ".py",
   "mimetype": "text/x-python",
   "name": "python",
   "nbconvert_exporter": "python",
   "pygments_lexer": "ipython3",
   "version": "3.12.4"
  }
 },
 "nbformat": 4,
 "nbformat_minor": 5
}
