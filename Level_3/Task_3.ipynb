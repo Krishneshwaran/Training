{
 "cells": [
  {
   "cell_type": "code",
   "execution_count": 1,
   "id": "6b4f4a58-1247-4867-a6e1-8ce6ee2c3578",
   "metadata": {},
   "outputs": [
    {
     "name": "stdout",
     "output_type": "stream",
     "text": [
      "Woof\n"
     ]
    }
   ],
   "source": [
    "class Animal:\n",
    "    def sound(self):\n",
    "        return \"Some generic sound\"\n",
    "class Dog(Animal):\n",
    "    def sound(self):\n",
    "        return \"Woof\"\n",
    "dog_instance = Dog()\n",
    "print(dog_instance.sound())\n"
   ]
  },
  {
   "cell_type": "code",
   "execution_count": null,
   "id": "0af3bfb4-07ea-4d42-9508-8bb0e0bbb6c2",
   "metadata": {},
   "outputs": [],
   "source": []
  }
 ],
 "metadata": {
  "kernelspec": {
   "display_name": "Python 3 (ipykernel)",
   "language": "python",
   "name": "python3"
  },
  "language_info": {
   "codemirror_mode": {
    "name": "ipython",
    "version": 3
   },
   "file_extension": ".py",
   "mimetype": "text/x-python",
   "name": "python",
   "nbconvert_exporter": "python",
   "pygments_lexer": "ipython3",
   "version": "3.12.4"
  }
 },
 "nbformat": 4,
 "nbformat_minor": 5
}
