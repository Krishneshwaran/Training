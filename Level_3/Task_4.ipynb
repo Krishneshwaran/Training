{
 "cells": [
  {
   "cell_type": "code",
   "execution_count": 1,
   "id": "bedbd821-4512-4058-87de-43b0f046dd3e",
   "metadata": {},
   "outputs": [
    {
     "name": "stdout",
     "output_type": "stream",
     "text": [
      "Pausing for 1 second...\n",
      "Task completed!\n",
      "Elapsed time: 1.0004 seconds\n"
     ]
    }
   ],
   "source": [
    "\n",
    "import time\n",
    "def timer_decorator(func):\n",
    "    def wrapper(*args, **kwargs):\n",
    "        start_time = time.time()\n",
    "        result = func(*args, **kwargs)\n",
    "        elapsed_time = time.time() - start_time\n",
    "        print(f\"Elapsed time: {elapsed_time:.4f} seconds\")\n",
    "        return result\n",
    "    return wrapper\n",
    "@timer_decorator\n",
    "def sample_function():\n",
    "    print(\"Pausing for 1 second...\")\n",
    "    time.sleep(1)\n",
    "    print(\"Task completed!\")\n",
    "sample_function()\n"
   ]
  },
  {
   "cell_type": "code",
   "execution_count": null,
   "id": "b0bdd29d-c019-48cc-8093-11a810fa9c2d",
   "metadata": {},
   "outputs": [],
   "source": []
  }
 ],
 "metadata": {
  "kernelspec": {
   "display_name": "Python 3 (ipykernel)",
   "language": "python",
   "name": "python3"
  },
  "language_info": {
   "codemirror_mode": {
    "name": "ipython",
    "version": 3
   },
   "file_extension": ".py",
   "mimetype": "text/x-python",
   "name": "python",
   "nbconvert_exporter": "python",
   "pygments_lexer": "ipython3",
   "version": "3.12.4"
  }
 },
 "nbformat": 4,
 "nbformat_minor": 5
}
