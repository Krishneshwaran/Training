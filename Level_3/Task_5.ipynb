{
 "cells": [
  {
   "cell_type": "code",
   "execution_count": 1,
   "id": "0649dc97-8f44-48c6-9e01-2241960e7fba",
   "metadata": {},
   "outputs": [
    {
     "name": "stdout",
     "output_type": "stream",
     "text": [
      "[0, 1, 1, 2, 3]\n"
     ]
    }
   ],
   "source": [
    "def fib(n):\n",
    "  a,b=0,1\n",
    "  for _ in range(n):\n",
    "    yield a\n",
    "    a,b = b, a+b\n",
    "fib_seq=list(fib(5))\n",
    "print(fib_seq)\n"
   ]
  },
  {
   "cell_type": "code",
   "execution_count": null,
   "id": "dacbdf4b-5437-46d8-b834-b2b6e19f62df",
   "metadata": {},
   "outputs": [],
   "source": []
  }
 ],
 "metadata": {
  "kernelspec": {
   "display_name": "Python 3 (ipykernel)",
   "language": "python",
   "name": "python3"
  },
  "language_info": {
   "codemirror_mode": {
    "name": "ipython",
    "version": 3
   },
   "file_extension": ".py",
   "mimetype": "text/x-python",
   "name": "python",
   "nbconvert_exporter": "python",
   "pygments_lexer": "ipython3",
   "version": "3.12.4"
  }
 },
 "nbformat": 4,
 "nbformat_minor": 5
}
