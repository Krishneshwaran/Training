{
 "cells": [
  {
   "cell_type": "code",
   "execution_count": 1,
   "id": "20b1d417-ea82-4a09-bf36-ced4db590753",
   "metadata": {},
   "outputs": [
    {
     "name": "stdout",
     "output_type": "stream",
     "text": [
      "Area: 12\n"
     ]
    }
   ],
   "source": [
    "def cal_area(length,width):\n",
    "    return length*width\n",
    "result = cal_area(6,2)\n",
    "print(\"Area:\",result)"
   ]
  },
  {
   "cell_type": "code",
   "execution_count": 2,
   "id": "e1bc0f7b-d257-4434-87f3-4ceb5be28a57",
   "metadata": {},
   "outputs": [
    {
     "name": "stdout",
     "output_type": "stream",
     "text": [
      "Area: 12\n"
     ]
    }
   ],
   "source": [
    "length=6\n",
    "width=2\n",
    "area=length*width\n",
    "print(\"Area:\",area)"
   ]
  },
  {
   "cell_type": "code",
   "execution_count": null,
   "id": "bb7a08cd-a8bb-4726-adac-793bd884ae23",
   "metadata": {},
   "outputs": [],
   "source": []
  }
 ],
 "metadata": {
  "kernelspec": {
   "display_name": "Python 3 (ipykernel)",
   "language": "python",
   "name": "python3"
  },
  "language_info": {
   "codemirror_mode": {
    "name": "ipython",
    "version": 3
   },
   "file_extension": ".py",
   "mimetype": "text/x-python",
   "name": "python",
   "nbconvert_exporter": "python",
   "pygments_lexer": "ipython3",
   "version": "3.12.4"
  }
 },
 "nbformat": 4,
 "nbformat_minor": 5
}
