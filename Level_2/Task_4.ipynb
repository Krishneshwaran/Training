{
 "cells": [
  {
   "cell_type": "code",
   "execution_count": 1,
   "id": "e48b8618-42f9-47f4-809b-573b503cecae",
   "metadata": {},
   "outputs": [
    {
     "name": "stdout",
     "output_type": "stream",
     "text": [
      "Even numbers: [2, 4]\n",
      "Cubed numbers: [1, 8, 27, 64, 125]\n"
     ]
    }
   ],
   "source": [
    "lst = [1, 2, 3, 4, 5]\n",
    "even_number = list(filter(lambda x: x % 2 == 0, lst))\n",
    "cube_number = list(map(lambda x: x ** 3, lst))\n",
    "print(\"Even numbers:\", even_number)\n",
    "print(\"Cubed numbers:\", cube_number)\n"
   ]
  },
  {
   "cell_type": "code",
   "execution_count": null,
   "id": "5ccaf76e-3198-417a-86fc-d726cc73bae4",
   "metadata": {},
   "outputs": [],
   "source": []
  }
 ],
 "metadata": {
  "kernelspec": {
   "display_name": "Python 3 (ipykernel)",
   "language": "python",
   "name": "python3"
  },
  "language_info": {
   "codemirror_mode": {
    "name": "ipython",
    "version": 3
   },
   "file_extension": ".py",
   "mimetype": "text/x-python",
   "name": "python",
   "nbconvert_exporter": "python",
   "pygments_lexer": "ipython3",
   "version": "3.12.4"
  }
 },
 "nbformat": 4,
 "nbformat_minor": 5
}
